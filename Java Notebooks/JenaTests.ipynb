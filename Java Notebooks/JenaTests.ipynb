{
 "cells": [
  {
   "cell_type": "code",
   "execution_count": 9,
   "metadata": {},
   "outputs": [],
   "source": [
    "%%loadFromPOM\n",
    "<dependency>\n",
    "    <groupId>org.apache.jena</groupId>\n",
    "    <artifactId>apache-jena-libs</artifactId>\n",
    "    <type>pom</type>\n",
    "    <version>3.11.0</version>\n",
    "</dependency>"
   ]
  },
  {
   "cell_type": "code",
   "execution_count": 10,
   "metadata": {},
   "outputs": [],
   "source": [
    "%%loadFromPOM\n",
    "<dependencies>\n",
    "  <dependency>\n",
    "    <groupId> org.apache.cassandra</groupId>\n",
    "    <artifactId>cassandra-all</artifactId>\n",
    "    <version>0.8.1</version>\n",
    "\n",
    "    <exclusions>\n",
    "      <exclusion> \n",
    "        <groupId>org.slf4j</groupId>\n",
    "        <artifactId>slf4j-log4j12</artifactId>\n",
    "      </exclusion>\n",
    "      <exclusion> \n",
    "        <groupId>log4j</groupId>\n",
    "        <artifactId>log4j</artifactId>\n",
    "      </exclusion>\n",
    "    </exclusions> \n",
    "\n",
    "  </dependency>\n",
    "</dependencies>"
   ]
  },
  {
   "cell_type": "code",
   "execution_count": 11,
   "metadata": {},
   "outputs": [],
   "source": [
    "import org.apache.jena.*;\n",
    "import org.apache.jena.rdf.model.Model;\n",
    "import org.apache.jena.rdf.model.ModelFactory;"
   ]
  },
  {
   "cell_type": "code",
   "execution_count": 12,
   "metadata": {},
   "outputs": [],
   "source": [
    "// create an empty Model\n",
    "Model model = ModelFactory.createDefaultModel();"
   ]
  }
 ],
 "metadata": {
  "kernelspec": {
   "display_name": "Java",
   "language": "java",
   "name": "java"
  },
  "language_info": {
   "codemirror_mode": "java",
   "file_extension": ".jshell",
   "mimetype": "text/x-java-source",
   "name": "Java",
   "pygments_lexer": "java",
   "version": "11.0.3+1-Debian-1bpo91"
  }
 },
 "nbformat": 4,
 "nbformat_minor": 2
}
