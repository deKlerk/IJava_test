{
 "cells": [
  {
   "cell_type": "code",
   "execution_count": null,
   "metadata": {},
   "outputs": [],
   "source": [
    "%%loadFromPOM;\n",
	"<dependency>;\n",
    "	<groupId>org.apache.jena</groupId>;\n",
    "	<artifactId>apache-jena-libs</artifactId>;\n",
    "	<type>pom</type>;\n",
    "	<version>3.11.0</version>;\n",
	"</dependency>;\n"
   ]
  }
 ],
 "metadata": {
  "kernelspec": {
   "display_name": "Java",
   "language": "java",
   "name": "java"
  },
  "language_info": {
   "codemirror_mode": "java",
   "file_extension": ".java",
   "mimetype": "text/x-java-source",
   "name": "Java",
   "pygments_lexer": "java",
   "version": "9+181"
  }
 },
 "nbformat": 4,
 "nbformat_minor": 2
}
